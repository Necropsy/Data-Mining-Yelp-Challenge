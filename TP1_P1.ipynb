{
 "cells": [
  {
   "cell_type": "code",
   "execution_count": 4,
   "metadata": {},
   "outputs": [
    {
     "name": "stderr",
     "output_type": "stream",
     "text": [
      "/home/necropsy/anaconda3/lib/python3.6/site-packages/ipykernel_launcher.py:15: SettingWithCopyWarning: \n",
      "A value is trying to be set on a copy of a slice from a DataFrame\n",
      "\n",
      "See the caveats in the documentation: http://pandas.pydata.org/pandas-docs/stable/indexing.html#indexing-view-versus-copy\n",
      "  from ipykernel import kernelapp as app\n"
     ]
    }
   ],
   "source": [
    "import pandas as pd\n",
    "import numpy as np\n",
    "\n",
    "import matplotlib.pyplot as plt\n",
    "from sklearn.metrics import jaccard_similarity_score\n",
    "from sklearn.preprocessing import MultiLabelBinarizer\n",
    "from sklearn.metrics.pairwise import euclidean_distances as euclidean\n",
    "from sklearn.preprocessing import normalize as nm\n",
    "\n",
    "#Configurando e Representando os Dados-----------------------------------------------------------------------------\n",
    "data = pd.read_json('yelp_academic_dataset_business.json', lines = True)\n",
    "newBase = data.loc[(data[\"city\"]==\"Las Vegas\") & data[\"categories\"].apply(lambda x: \"Restaurants\" in x)]\n",
    "#Limpando a base de dados:\n",
    "#Removendo dados que a princípio não são significativos para a analise do trabalho\n",
    "newBase.drop(['city', 'open', 'state', 'type', 'business_id'], axis=1, inplace=True)"
   ]
  },
  {
   "cell_type": "code",
   "execution_count": 32,
   "metadata": {},
   "outputs": [],
   "source": [
    "#Gerada matriz categoria(binário)\n",
    "new = newBase['categories'].tolist()\n",
    "col = [];\n",
    "for x in new:\n",
    "    col = list(set(col+x))\n",
    "categories = pd.DataFrame(columns = col)\n",
    "i = 0\n",
    "for restaurante in new:\n",
    "    row = []\n",
    "    for col in range(len(categories.columns)):\n",
    "        aux = 1\n",
    "        for tipo in restaurante:\n",
    "            if(tipo == categories.columns[col]):\n",
    "                row.insert(col,1)\n",
    "                aux = 0\n",
    "        if(aux == 1):\n",
    "            row.insert(col,0)\n",
    "    categories.loc[i] = row\n",
    "    i += 1\n",
    "\n",
    "new2 = pd.DataFrame(categories)"
   ]
  },
  {
   "cell_type": "code",
   "execution_count": 71,
   "metadata": {},
   "outputs": [],
   "source": [
    "#Criando a matriz (latitude, longitude, categorias[binário])\n",
    "left = newBase[\"latitude\"].tolist()\n",
    "left = pd.DataFrame(left, columns=['latitude'])\n",
    "right = newBase[\"longitude\"].tolist()\n",
    "right = pd.DataFrame(right, columns=['longitude'])\n",
    "\n",
    "result = pd.concat([left, right], axis=1)\n",
    "result = pd.concat([result, new2], axis=1)"
   ]
  },
  {
   "cell_type": "code",
   "execution_count": 79,
   "metadata": {},
   "outputs": [],
   "source": [
    "#Inserir o código do kmeans"
   ]
  },
  {
   "cell_type": "code",
   "execution_count": 69,
   "metadata": {},
   "outputs": [
    {
     "data": {
      "text/plain": [
       "<matplotlib.collections.PathCollection at 0x7fb1d3edaf98>"
      ]
     },
     "execution_count": 69,
     "metadata": {},
     "output_type": "execute_result"
    },
    {
     "data": {
      "image/png": "[encoded data removed]",
      "text/plain": [
       "<matplotlib.figure.Figure at 0x7fb1d201ecc0>"
      ]
     },
     "metadata": {},
     "output_type": "display_data"
    }
   ],
   "source": [
    "#Aplicando PCA e plotando\n",
    "#porem ele ta aplicando o PCA na latitude e longitude também\n",
    "#e acredito que isso não pode ser feito\n",
    "from sklearn.decomposition import PCA\n",
    "\n",
    "cols = list(result.columns)\n",
    "\n",
    "pca = PCA(n_components=2, whiten=True)\n",
    "dados_pca = pca.fit_transform(result[cols].values)\n",
    "dados_pca = pd.DataFrame(dados_pca,columns=['comp1', 'comp2'])\n",
    "\n",
    "plt.scatter(dados_pca['comp1'], dados_pca['comp1'],cmap=plt.cm.ocean)"
   ]
  },
  {
   "cell_type": "code",
   "execution_count": null,
   "metadata": {},
   "outputs": [],
   "source": []
  }
 ],
 "metadata": {
  "kernelspec": {
   "display_name": "Python 3",
   "language": "python",
   "name": "python3"
  },
  "language_info": {
   "codemirror_mode": {
    "name": "ipython",
    "version": 3
   },
   "file_extension": ".py",
   "mimetype": "text/x-python",
   "name": "python",
   "nbconvert_exporter": "python",
   "pygments_lexer": "ipython3",
   "version": "3.6.4"
  }
 },
 "nbformat": 4,
 "nbformat_minor": 2
}
